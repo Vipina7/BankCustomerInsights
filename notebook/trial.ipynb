{
 "cells": [
  {
   "cell_type": "code",
   "execution_count": null,
   "metadata": {},
   "outputs": [],
   "source": [
    "## Cap and log transform the necessary variables\n",
    "\n",
    "# get the 95th quantile for capping from the original df\n",
    "cap_campaign = df['campaign'].quantile(0.95)\n",
    "cap_previous = df['previous'].quantile(0.95)\n",
    "\n",
    "train_set['balance'] = train_set['balance'].apply(lambda x: np.log1p(x) if x>0 else -np.log1p(abs(x)))\n",
    "train_set['duration'] = train_set['duration'].apply(lambda x: np.log(x))\n",
    "\n",
    "test_set['balance'] = test_set['balance'].apply(lambda x: np.log1p(x) if x>0 else -np.log1p(abs(x)))\n",
    "test_set['duration'] = test_set['duration'].apply(lambda x: np.log(x))\n",
    "\n",
    "\n",
    "## Campaign and previous\n",
    "train_set['campaign'] = np.clip(train_set['campaign'], None, cap_campaign)\n",
    "train_set['campaign'] = train_set['campaign'].apply(lambda x: np.log1p(x))\n",
    "\n",
    "test_set['campaign'] = np.clip(test_set['campaign'], None, cap_campaign)\n",
    "test_set['campaign'] = test_set['campaign'].apply(lambda x: np.log1p(x))\n",
    "\n",
    "train_set['previous'] = np.clip(train_set['previous'], None, cap_previous)\n",
    "train_set['previous'] = train_set['previous'].apply(lambda x: np.log1p(x))\n",
    "\n",
    "test_set['previous'] = np.clip(test_set['previous'], None, cap_previous)\n",
    "test_set['previous'] = test_set['previous'].apply(lambda x: np.log1p(x))"
   ]
  },
  {
   "cell_type": "code",
   "execution_count": null,
   "metadata": {},
   "outputs": [],
   "source": []
  },
  {
   "cell_type": "code",
   "execution_count": null,
   "metadata": {},
   "outputs": [],
   "source": []
  }
 ],
 "metadata": {
  "kernelspec": {
   "display_name": "Python 3",
   "language": "python",
   "name": "python3"
  },
  "language_info": {
   "name": "python",
   "version": "3.9.0"
  }
 },
 "nbformat": 4,
 "nbformat_minor": 2
}
